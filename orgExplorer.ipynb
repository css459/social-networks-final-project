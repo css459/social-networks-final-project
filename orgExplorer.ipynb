{
 "cells": [
  {
   "cell_type": "code",
   "execution_count": 65,
   "metadata": {},
   "outputs": [],
   "source": [
    "#%cd .."
   ]
  },
  {
   "cell_type": "code",
   "execution_count": 1,
   "metadata": {},
   "outputs": [],
   "source": [
    "import requests\n",
    "import json\n",
    "import re\n",
    "import numpy as np\n",
    "import pandas as pd\n",
    "\n",
    "from parser.org import TEST_URL"
   ]
  },
  {
   "cell_type": "markdown",
   "metadata": {},
   "source": [
    "# (Down)load the JSON to File"
   ]
  },
  {
   "cell_type": "code",
   "execution_count": 4,
   "metadata": {},
   "outputs": [],
   "source": [
    "# headers = requests.utils.default_headers()\n",
    "# headers.update({'User-Agent': 'Mozilla/5.0',})\n",
    "# raw = requests.get(TEST_URL, headers=headers).text\n",
    "\n",
    "# with open('test_org.json', 'w') as fp:\n",
    "#     fp.write(raw)"
   ]
  },
  {
   "cell_type": "code",
   "execution_count": 5,
   "metadata": {},
   "outputs": [],
   "source": [
    "with open('test_org.json', 'r') as json_file:\n",
    "    data = json.load(json_file)"
   ]
  },
  {
   "cell_type": "markdown",
   "metadata": {},
   "source": [
    "# URL's Entity's UUID"
   ]
  },
  {
   "cell_type": "code",
   "execution_count": 57,
   "metadata": {},
   "outputs": [
    {
     "data": {
      "text/plain": [
       "'ce3d7079-97a0-e664-66cf-add27867cee1'"
      ]
     },
     "execution_count": 57,
     "metadata": {},
     "output_type": "execute_result"
    }
   ],
   "source": [
    "uuid = data['properties']['identifier']['uuid']\n",
    "this_uuid = uuid\n",
    "uuid"
   ]
  },
  {
   "cell_type": "markdown",
   "metadata": {},
   "source": [
    "# Utility Functions"
   ]
  },
  {
   "cell_type": "code",
   "execution_count": 13,
   "metadata": {},
   "outputs": [],
   "source": [
    "def dict_generator(indict, pre=None):\n",
    "    pre = pre[:] if pre else []\n",
    "    if isinstance(indict, dict):\n",
    "        for key, value in indict.items():\n",
    "            if isinstance(value, dict):\n",
    "                for d in dict_generator(value, pre + [key]):\n",
    "                    yield d\n",
    "            elif isinstance(value, list) or isinstance(value, tuple):\n",
    "                for v in value:\n",
    "                    for d in dict_generator(v, pre + [key]):\n",
    "                        yield d\n",
    "            else:\n",
    "                yield pre + [key, value]\n",
    "    else:\n",
    "        yield pre + [indict]"
   ]
  },
  {
   "cell_type": "code",
   "execution_count": 48,
   "metadata": {},
   "outputs": [],
   "source": [
    "def get_only_values(d, ngram=1, ngram_join=' '):\n",
    "    acc = []\n",
    "    for g in dict_generator(d):\n",
    "        if 'recommended_search' not in g:\n",
    "            acc.append(ngram_join.join([str(x) for x in g[-ngram:]]))\n",
    "    return acc"
   ]
  },
  {
   "cell_type": "markdown",
   "metadata": {},
   "source": [
    "# Most Common JSON Leaves (Lookback 2 --> 3grams)"
   ]
  },
  {
   "cell_type": "code",
   "execution_count": 72,
   "metadata": {},
   "outputs": [
    {
     "data": {
      "text/plain": [
       "[('identifier <-- entity_def_id <-- organization', 30),\n",
       " ('identifier <-- image_id <-- v1421524538/gasqwdjyarqy2vv84guh.png', 27),\n",
       " ('identifier <-- entity_def_id <-- job', 25),\n",
       " ('person_identifier <-- entity_def_id <-- person', 25),\n",
       " ('identifier <-- uuid <-- ce3d7079-97a0-e664-66cf-add27867cee1', 22),\n",
       " ('identifier <-- value <-- Manhattan Venture Partners', 22),\n",
       " ('identifier <-- permalink <-- manhattan-venture-partners', 22),\n",
       " ('identifier <-- entity_def_id <-- builtwith_technology', 10),\n",
       " ('product_identifier <-- entity_def_id <-- siftery_product', 10),\n",
       " ('siftery_product_list <-- status <-- using', 10),\n",
       " ('identifier <-- entity_def_id <-- investment', 10),\n",
       " ('organization_identifier <-- entity_def_id <-- organization', 10),\n",
       " ('funding_round_identifier <-- entity_def_id <-- funding_round', 10),\n",
       " ('identifier <-- entity_def_id <-- hub', 10),\n",
       " ('current_advisors_image_list <-- job_type <-- advisor', 7),\n",
       " ('funding_round_money_raised <-- currency <-- USD', 6),\n",
       " ('started_on <-- precision <-- month', 4),\n",
       " ('identifier <-- entity_def_id <-- fund', 4),\n",
       " ('location_identifiers <-- entity_def_id <-- location', 4),\n",
       " ('started_on <-- value <-- 2014-09-01', 4)]"
      ]
     },
     "execution_count": 72,
     "metadata": {},
     "output_type": "execute_result"
    }
   ],
   "source": [
    "from collections import Counter\n",
    "Counter(get_only_values(data, ngram=3, ngram_join=' <-- ')).most_common(20)"
   ]
  },
  {
   "cell_type": "markdown",
   "metadata": {},
   "source": [
    "# Find UUID Out-Links\n",
    "Finds all the referenced uuids (that are not the uuid of this entity) with their\n",
    "respective counts and all referenced types in the JSON file"
   ]
  },
  {
   "cell_type": "code",
   "execution_count": 73,
   "metadata": {},
   "outputs": [],
   "source": [
    "def find_uuid_outlinks(d):\n",
    "    uuids = {}\n",
    "    counts = {}\n",
    "    for v in get_only_values(d, ngram=3, ngram_join='**'):\n",
    "        [ref, lit, uuid] = v.split('**')\n",
    "        if lit != 'uuid' or uuid == this_uuid:\n",
    "            continue\n",
    "        \n",
    "        if not uuid in uuids:\n",
    "            uuids[uuid] = [ref]\n",
    "            counts[uuid] = 1\n",
    "        else:\n",
    "            uuids[uuid].append(ref)\n",
    "            counts[uuid] += 1\n",
    "\n",
    "    return uuids, counts"
   ]
  },
  {
   "cell_type": "code",
   "execution_count": 79,
   "metadata": {},
   "outputs": [
    {
     "data": {
      "text/plain": [
       "[(3,\n",
       "  \"603d3264-7a74-8e61-accb-78a9ec863356 : ['founder_identifiers', 'person_identifier', 'person_identifier']\"),\n",
       " (3,\n",
       "  \"4b850877-9c2e-aeb3-6d47-e4ea1286d8c1 : ['founder_identifiers', 'person_identifier', 'person_identifier']\"),\n",
       " (2,\n",
       "  \"f99dac7d-460c-455e-8f67-89544f9aaa16 : ['identifier', 'siftery_product_list']\"),\n",
       " (2, \"e89d7d05-74bc-3514-f791-d127f5c274db : ['identifier', 'identifier']\"),\n",
       " (2, \"d710114b-64f2-61c8-70ce-103f9c86d89c : ['identifier', 'identifier']\"),\n",
       " (2, \"c4d7e661-4328-ee4f-4970-0cc426685028 : ['identifier', 'identifier']\"),\n",
       " (2,\n",
       "  \"b42fc8fb-dc6f-4081-9639-10b31186c0e7 : ['identifier', 'siftery_product_list']\"),\n",
       " (2,\n",
       "  \"ad470638-5fa1-46b4-9631-14bea999022a : ['identifier', 'siftery_product_list']\"),\n",
       " (2,\n",
       "  \"a16e610e-fab1-4e58-b87e-1baed30aeb1c : ['identifier', 'siftery_product_list']\"),\n",
       " (2,\n",
       "  \"97fa0976-de84-183a-0f01-8c1776e67796 : ['person_identifier', 'person_identifier']\"),\n",
       " (2,\n",
       "  \"7444f056-c329-42c3-903f-10fbe6cd4f77 : ['identifier', 'siftery_product_list']\"),\n",
       " (2,\n",
       "  \"70de9119-7a70-4f80-bf43-513ec7beeb1b : ['identifier', 'siftery_product_list']\"),\n",
       " (2, \"5f91688b-0f28-d994-ab6e-5c60308ca3f0 : ['identifier', 'identifier']\"),\n",
       " (2,\n",
       "  \"5ced3248-9aab-7a12-3bb9-32bf5c26fd8c : ['person_identifier', 'person_identifier']\"),\n",
       " (2, \"5707250c-ba79-79e5-e7d0-3dfa06a63d31 : ['identifier', 'identifier']\"),\n",
       " (2,\n",
       "  \"52a27947-2980-7c6a-418d-cf13824baa26 : ['person_identifier', 'person_identifier']\"),\n",
       " (2,\n",
       "  \"504f6695-f9df-4037-ad79-3970d41350a2 : ['identifier', 'siftery_product_list']\"),\n",
       " (2,\n",
       "  \"42174273-6b9f-80a7-5681-3214a816f15e : ['person_identifier', 'person_identifier']\"),\n",
       " (2,\n",
       "  \"3d16980f-37f1-8d6e-2766-20ed5dfa6904 : ['person_identifier', 'person_identifier']\"),\n",
       " (2, \"285496e0-a61d-c9a6-cced-a42e08ccb70e : ['identifier', 'identifier']\"),\n",
       " (2,\n",
       "  \"27d67f47-ba95-43c8-97d6-2cc9cfe74f3b : ['identifier', 'siftery_product_list']\"),\n",
       " (2,\n",
       "  \"2372e88e-240a-a19c-c549-bd262c670ee1 : ['organization_identifier', 'organization_identifier']\"),\n",
       " (2,\n",
       "  \"16fada2d-c4fa-4336-8b97-241afe93dea9 : ['identifier', 'siftery_product_list']\"),\n",
       " (2, \"0c011540-569d-489d-a9ea-5c9b1a3e7c1c : ['identifier', 'identifier']\"),\n",
       " (2, \"08680f89-c9d2-62d9-ab64-48797a63439c : ['identifier', 'identifier']\"),\n",
       " (2,\n",
       "  \"05796b33-bbb0-4755-99a3-774a51955b6c : ['identifier', 'siftery_product_list']\"),\n",
       " (2,\n",
       "  \"0223b971-5305-33db-ade0-147e577de200 : ['person_identifier', 'person_identifier']\"),\n",
       " (1, \"ff9936d8-4d83-cb80-0196-809aa51a0e41 : ['organization_identifier']\"),\n",
       " (1, \"fde23266-dfa8-4047-be1b-7afdc3a1860b : ['identifier']\"),\n",
       " (1, \"fcb75056-1717-697c-fdd2-c2643146e9dc : ['organization_identifier']\"),\n",
       " (1, \"f91002e7-8d16-44df-a332-7cfe4df59bdb : ['identifier']\"),\n",
       " (1, \"f8863af0-076d-4a78-b449-c30e8882986f : ['funding_round_identifier']\"),\n",
       " (1, \"f59a9ae0-bb82-433b-aff4-4fa461826309 : ['identifier']\"),\n",
       " (1, \"f35873be-4d85-b200-395b-37749ab0b02b : ['identifier']\"),\n",
       " (1, \"f2924cb2-53ba-a0af-b92c-200b4a1240f6 : ['identifier']\"),\n",
       " (1, \"f267a617-e1ce-fa6e-b440-9adb8ff09caf : ['identifier']\"),\n",
       " (1, \"f110fca2-1055-99f6-996d-011c198b3928 : ['location_identifiers']\"),\n",
       " (1, \"f0f535a6-fc26-4240-8ee1-bb37f5d4434a : ['identifier']\"),\n",
       " (1, \"f0bbdd4f-6e6e-158b-dc33-658e22bd51b2 : ['person_identifier']\"),\n",
       " (1, \"ed16a5ea-6185-4e8f-b13a-91b4ee9a4486 : ['identifier']\"),\n",
       " (1, \"ec73dcb2-972e-8982-6a5b-371c6ff18b22 : ['organization_identifier']\"),\n",
       " (1, \"e67c528a-18cc-42e4-8b66-3a47e914b58f : ['funding_round_identifier']\"),\n",
       " (1, \"e29377fa-f41b-4cc0-849c-62f7b9e1a977 : ['identifier']\"),\n",
       " (1, \"e26ac6d4-1383-44a1-a3bb-f2315ed06667 : ['funding_round_identifier']\"),\n",
       " (1, \"e075db72-f81a-478d-a102-698fb2d855a7 : ['identifier']\"),\n",
       " (1, \"d64b7615-985c-fbf4-4aff-aa89d70c4050 : ['location_identifiers']\"),\n",
       " (1, \"d4bcb2d7-b537-46ce-a287-5b605fc7c073 : ['funding_round_identifier']\"),\n",
       " (1, \"d2d9c58c-ff75-41a6-a31f-2d8f0c1589e2 : ['identifier']\"),\n",
       " (1, \"cbb93d58-1df1-7b9a-5678-a2c23ce4bcf3 : ['identifier']\"),\n",
       " (1, \"c9b8c9cd-9429-4ef6-8037-e845e210ed99 : ['identifier']\"),\n",
       " (1, \"c662b090-b009-40e0-8971-02b7e6ced009 : ['funding_round_identifier']\"),\n",
       " (1, \"c34c6eb9-fc7e-4d22-a796-8b8bb0d8ce91 : ['identifier']\"),\n",
       " (1, \"bfaf9c76-1990-46b9-9b23-a38ddb41ac28 : ['identifier']\"),\n",
       " (1, \"bcb617c3-9e43-d5b0-1d14-82b795f2642f : ['organization_identifier']\"),\n",
       " (1, \"bb96803b-5f08-45a0-820c-609acb65f133 : ['product_identifier']\"),\n",
       " (1, \"b61a9986-0ae3-f9ec-2fba-0d5371432b69 : ['organization_identifier']\"),\n",
       " (1, \"b37dbaeb-c825-e6a0-36de-84556a5d2e1f : ['categories']\"),\n",
       " (1, \"b3675ff5-b5d8-4f90-bb89-a1fa51d58e96 : ['product_identifier']\"),\n",
       " (1, \"b25caef9-a1b8-3a5d-6232-93b2dfb6a1d1 : ['location_identifiers']\"),\n",
       " (1, \"b16ebe2d-033d-4d01-abfd-e5fbf811dc2f : ['location_group_identifiers']\"),\n",
       " (1, \"ae831054-04f9-e0aa-c105-5645db643809 : ['person_identifier']\"),\n",
       " (1, \"aae10a65-ee08-2b58-7a00-92456f30b907 : ['person_identifier']\"),\n",
       " (1, \"a9a50434-7d7b-71e9-62d2-cdf7aa9f6535 : ['organization_identifier']\"),\n",
       " (1, \"a4cae353-b206-4eb3-8719-e8713534dd72 : ['product_identifier']\"),\n",
       " (1, \"a4b1c0e6-eb2f-4116-afb6-24cdaf13a6a3 : ['identifier']\"),\n",
       " (1, \"a21fd3fa-c9c5-be84-f26c-e1d78939ae6c : ['identifier']\"),\n",
       " (1, \"9ee268db-9c6b-4cfa-a483-b618be0b700c : ['funding_round_identifier']\"),\n",
       " (1, \"9c690c44-6c35-4470-8836-176496a912d7 : ['identifier']\"),\n",
       " (1, \"9aebf6e8-2e79-0ae6-846f-3b930f34ebb8 : ['person_identifier']\"),\n",
       " (1, \"9998667e-5c3b-1d30-7d19-40bba2cd4ed3 : ['person_identifier']\"),\n",
       " (1, \"983394a8-d4ee-4af3-89ba-ae3a204dc982 : ['identifier']\"),\n",
       " (1, \"95f35a1a-6dff-b8ac-a64f-0ec3bc6f313a : ['identifier']\"),\n",
       " (1, \"90b4194f-1d4f-ff5c-d7a6-6b6f32ae4892 : ['categories']\"),\n",
       " (1, \"8f83e283-e00b-8101-d79b-bf2dd6914d6e : ['identifier']\"),\n",
       " (1, \"888a9f17-9ed0-4343-5beb-a9b63d52a34f : ['person_identifier']\"),\n",
       " (1, \"862d77fa-75ba-46fd-80fb-8c1b7e152356 : ['funding_round_identifier']\"),\n",
       " (1, \"843c7392-5aa7-4bba-a3da-4cb63a11aaa4 : ['identifier']\"),\n",
       " (1, \"83ead471-332b-d02e-67b7-67279aed075b : ['location_identifiers']\"),\n",
       " (1, \"7a9fc7fb-2180-4c4d-a41d-602630146cef : ['identifier']\"),\n",
       " (1, \"799c9bbf-c24f-44f5-abb6-4a4f95f0e962 : ['identifier']\"),\n",
       " (1, \"78e19277-7aa4-4765-b8a9-31c22889a9e8 : ['funding_round_identifier']\"),\n",
       " (1, \"78222358-3f5e-44e2-b18b-68c3979ff893 : ['funding_round_identifier']\"),\n",
       " (1, \"77840218-830a-466c-a035-7c3c7676ebd9 : ['product_identifier']\"),\n",
       " (1, \"75c3bada-5e60-4c4b-99c7-405cfd3f32cb : ['identifier']\"),\n",
       " (1, \"75a119b8-1d35-4d72-9a3f-6a9ba5cc1dca : ['product_identifier']\"),\n",
       " (1, \"75989641-ef66-456e-b7cd-dfa57b34e881 : ['location_group_identifiers']\"),\n",
       " (1, \"751e1861-b51d-4fc3-b5ad-619d80761585 : ['identifier']\"),\n",
       " (1, \"74cd291b-ac7e-45f7-b4c8-ebef4606fca5 : ['product_identifier']\"),\n",
       " (1, \"6c6b9ca5-966a-448b-8480-29b5a753f9ee : ['location_group_identifiers']\"),\n",
       " (1, \"6839d6ea-2a56-13a7-160a-6dd60902f7cc : ['person_identifier']\"),\n",
       " (1, \"67cbd2c0-103d-486f-8e1a-827423e02bc1 : ['identifier']\"),\n",
       " (1, \"67938ce2-1e94-02f9-f70e-cce31692ac24 : ['ownee_identifier']\"),\n",
       " (1, \"66e40cf4-9685-ff3b-b5a7-0d43cc45eefb : ['organization_identifier']\"),\n",
       " (1, \"65f9aadc-e440-4901-82f1-190557202e2c : ['identifier']\"),\n",
       " (1, \"642db865-5851-4236-b4bb-ae8aae4dedc7 : ['product_identifier']\"),\n",
       " (1, \"62619f24-cf53-4f93-abd7-cb9716cbd7ca : ['product_identifier']\"),\n",
       " (1, \"601c8da7-2885-4514-94b3-8397704d7479 : ['identifier']\"),\n",
       " (1, \"52e8ae41-baf9-4cbb-84bc-5c6d2cf83c53 : ['identifier']\"),\n",
       " (1, \"43b9e775-b843-f194-fb96-d266684cfb53 : ['identifier']\"),\n",
       " (1, \"41777ee8-e9d6-4b9c-891a-53d0d4a5fc5f : ['product_identifier']\"),\n",
       " (1, \"406526b5-ad50-41bc-8a08-e53842442565 : ['identifier']\"),\n",
       " (1, \"3f3287d2-d275-4dcc-966f-3a56293b4609 : ['identifier']\"),\n",
       " (1, \"36160bb2-23d7-432b-ba24-ccb6f9cffaa9 : ['identifier']\"),\n",
       " (1, \"35207635-a977-41c8-ad7e-e1a761e27ee9 : ['identifier']\"),\n",
       " (1, \"33a97e70-f137-e90f-8d68-950a043ee09f : ['identifier']\"),\n",
       " (1, \"31805fef-419b-87c3-5e62-3b09e9c525f8 : ['person_identifier']\"),\n",
       " (1, \"312b5a04-723c-73cf-05e7-4256ee808430 : ['identifier']\"),\n",
       " (1, \"3104c5ba-d613-4a67-a98c-7130dddd97b0 : ['identifier']\"),\n",
       " (1, \"2f6cffdd-6438-400e-9512-692a21e184d8 : ['identifier']\"),\n",
       " (1, \"2e646fce-69f1-445b-b689-d21fb312fbfb : ['identifier']\"),\n",
       " (1, \"25f6f746-3b2e-4a4d-a0b6-c2e3a62b04f9 : ['funding_round_identifier']\"),\n",
       " (1, \"246db8e2-170a-4458-83c2-252f8a355678 : ['identifier']\"),\n",
       " (1, \"241e004e-75ef-decf-452b-67ad5e4c8453 : ['identifier']\"),\n",
       " (1, \"21176b0a-2064-4cad-a4c8-a29e9b941ffd : ['identifier']\"),\n",
       " (1, \"1ebbf18d-8144-4966-a1c2-a76bf6f84a3c : ['identifier']\"),\n",
       " (1, \"1e6d1e06-04ee-4c12-a926-72ef83d4e2ac : ['identifier']\"),\n",
       " (1, \"1a5f71ab-467c-5a57-2e52-f2c8faf6aa7b : ['person_identifier']\"),\n",
       " (1, \"19c17438-f556-4718-4e0f-691e55e12233 : ['identifier']\"),\n",
       " (1, \"1942485b-4e5f-ca5d-767f-db23a8fbc817 : ['organization_identifier']\"),\n",
       " (1, \"1900bdb8-8f65-4dca-9fda-5f2d848cb286 : ['identifier']\"),\n",
       " (1, \"18bf0e65-fc00-446f-8519-01c51787095c : ['identifier']\"),\n",
       " (1, \"16bb887a-aee2-4df9-bf19-b2985196a522 : ['identifier']\"),\n",
       " (1, \"1302a6b1-839b-1e5b-42f7-c6affe441a53 : ['identifier']\"),\n",
       " (1, \"11a88714-4f91-4531-ab29-9fe295166bab : ['product_identifier']\"),\n",
       " (1, \"0c8251b2-8e35-b743-2fa7-816d4e27b0e5 : ['identifier']\"),\n",
       " (1, \"08f5921a-64d0-485d-94d3-6d8f97ad3cec : ['identifier']\"),\n",
       " (1, \"022417b5-4980-6c54-0f3c-6736bbbb1a5e : ['identifier']\")]"
      ]
     },
     "execution_count": 79,
     "metadata": {},
     "output_type": "execute_result"
    }
   ],
   "source": [
    "u, c = find_uuid_outlinks(data)\n",
    "\n",
    "acc = []\n",
    "for uuid in u:\n",
    "    acc.append((c[uuid], uuid + ' : ' + str(u[uuid])))\n",
    "    \n",
    "sorted(acc, reverse=True)"
   ]
  }
 ],
 "metadata": {
  "kernelspec": {
   "display_name": "Python 3",
   "language": "python",
   "name": "python3"
  },
  "language_info": {
   "codemirror_mode": {
    "name": "ipython",
    "version": 3
   },
   "file_extension": ".py",
   "mimetype": "text/x-python",
   "name": "python",
   "nbconvert_exporter": "python",
   "pygments_lexer": "ipython3",
   "version": "3.7.4"
  }
 },
 "nbformat": 4,
 "nbformat_minor": 4
}
